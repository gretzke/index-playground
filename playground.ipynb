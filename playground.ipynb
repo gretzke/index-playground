{
 "cells": [
  {
   "cell_type": "code",
   "execution_count": 39,
   "metadata": {},
   "outputs": [],
   "source": [
    "from index import Token, Index"
   ]
  },
  {
   "cell_type": "code",
   "execution_count": 40,
   "metadata": {},
   "outputs": [
    {
     "name": "stdout",
     "output_type": "stream",
     "text": [
      "Index supply: 1000\n",
      "0 ETH: Value $0.0, Price: $3513.91 (0.0%), Index backing: 646.8660819623918\n",
      "5 BTC: Value $234489.8, Price: $46897.96 (57.6%), Index backing: 575.5544799047021\n",
      "100000 MATIC: Value $172600.0, Price: $1.73 (42.4%), Index backing: 423.6461595837072\n",
      "Average value: $135696.6\n",
      "Index value: $407089.8, index price: $407.0898\n",
      "\n"
     ]
    }
   ],
   "source": [
    "tokens = [Token(\"ETH\", 0, weight=75), Token(\"BTC\", 5, weight=5), Token(\"MATIC\", 100000)]\n",
    "index = Index(tokens).log()"
   ]
  },
  {
   "cell_type": "code",
   "execution_count": 41,
   "metadata": {},
   "outputs": [
    {
     "name": "stdout",
     "output_type": "stream",
     "text": [
      "249.72780032300608\n",
      "Index supply: 1000\n",
      "0 ETH: Value $0.0, Price: $3513.91 (0.0%), Index backing: 646.8660819623918\n",
      "5 BTC: Value $234489.8, Price: $46897.96 (57.6%), Index backing: 575.5544799047021\n",
      "100000 MATIC: Value $172600.0, Price: $1.73 (42.4%), Index backing: 423.6461595837072\n",
      "Average value: $135696.6\n",
      "Index value: $407089.8, index price: $407.0898\n",
      "\n"
     ]
    },
    {
     "data": {
      "text/plain": [
       "<index.Index at 0x1079fb340>"
      ]
     },
     "execution_count": 41,
     "metadata": {},
     "output_type": "execute_result"
    }
   ],
   "source": [
    "print(index.mintUsd(0, 1000, simulate=True))\n",
    "index.log()"
   ]
  },
  {
   "cell_type": "code",
   "execution_count": 42,
   "metadata": {},
   "outputs": [
    {
     "name": "stdout",
     "output_type": "stream",
     "text": [
      "249.72780032300608\n",
      "Index supply: 1000.6123179583019\n",
      "0 ETH: Value $0.0, Price: $3513.91 (0.0%), Index backing: 647.2621696809938\n",
      "5.0213 BTC: Value $235489.8, Price: $46897.96 (57.71%), Index backing: 575.9069022487289\n",
      "100000 MATIC: Value $172600.0, Price: $1.73 (42.29%), Index backing: 423.9055657351859\n",
      "Average value: $136029.93\n",
      "Index value: $408089.8, index price: $407.84007\n",
      "\n"
     ]
    },
    {
     "data": {
      "text/plain": [
       "<index.Index at 0x1079fb340>"
      ]
     },
     "execution_count": 42,
     "metadata": {},
     "output_type": "execute_result"
    }
   ],
   "source": [
    "print(index.mintUsd(0, 1000))\n",
    "index.log()"
   ]
  },
  {
   "cell_type": "code",
   "execution_count": null,
   "metadata": {},
   "outputs": [],
   "source": []
  }
 ],
 "metadata": {
  "kernelspec": {
   "display_name": "Python 3",
   "language": "python",
   "name": "python3"
  },
  "language_info": {
   "codemirror_mode": {
    "name": "ipython",
    "version": 3
   },
   "file_extension": ".py",
   "mimetype": "text/x-python",
   "name": "python",
   "nbconvert_exporter": "python",
   "pygments_lexer": "ipython3",
   "version": "3.10.7"
  }
 },
 "nbformat": 4,
 "nbformat_minor": 2
}
