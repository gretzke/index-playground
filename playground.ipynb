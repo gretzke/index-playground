{
 "cells": [
  {
   "cell_type": "code",
   "execution_count": 121,
   "metadata": {},
   "outputs": [],
   "source": [
    "from index import Token, Index"
   ]
  },
  {
   "cell_type": "code",
   "execution_count": 122,
   "metadata": {},
   "outputs": [
    {
     "name": "stdout",
     "output_type": "stream",
     "text": [
      "Index supply: 1000\n",
      "5 BTC: Value $234489.8, Price: $46897.96 (57.6%), Index backing: 575.5544799047021\n",
      "0 ETH: Value $0.0, Price: $3513.91 (0.0%), Index backing: 646.8660819623918\n",
      "100000 MATIC: Value $172600.0, Price: $1.73 (42.4%), Index backing: 423.6461595837072\n",
      "Average value: $135696.6\n",
      "Index value: $407089.8, index price: $407.0898\n",
      "\n"
     ]
    }
   ],
   "source": [
    "tokens = [Token(\"BTC\", 5), Token(\"ETH\", 0, weight=75), Token(\"MATIC\", 100000)]\n",
    "index = Index(tokens).log()"
   ]
  },
  {
   "cell_type": "code",
   "execution_count": 123,
   "metadata": {},
   "outputs": [
    {
     "name": "stdout",
     "output_type": "stream",
     "text": [
      "8.518115267575654\n",
      "Index supply: 1008.5181152675757\n",
      "5 BTC: Value $234489.8, Price: $46897.96 (57.11%), Index backing: 580.4571193072999\n",
      "1 ETH: Value $3513.91, Price: $3513.91 (0.86%), Index backing: 652.3761618112326\n",
      "100000 MATIC: Value $172600.0, Price: $1.73 (42.04%), Index backing: 427.25482640370694\n",
      "Average value: $136867.9\n",
      "Index value: $410603.71, index price: $407.13568\n",
      "\n"
     ]
    },
    {
     "data": {
      "text/plain": [
       "<index.Index at 0x106d73760>"
      ]
     },
     "execution_count": 123,
     "metadata": {},
     "output_type": "execute_result"
    }
   ],
   "source": [
    "print(index.mint(0, 1))\n",
    "index.log()"
   ]
  }
 ],
 "metadata": {
  "kernelspec": {
   "display_name": "Python 3",
   "language": "python",
   "name": "python3"
  },
  "language_info": {
   "codemirror_mode": {
    "name": "ipython",
    "version": 3
   },
   "file_extension": ".py",
   "mimetype": "text/x-python",
   "name": "python",
   "nbconvert_exporter": "python",
   "pygments_lexer": "ipython3",
   "version": "3.10.7"
  }
 },
 "nbformat": 4,
 "nbformat_minor": 2
}
